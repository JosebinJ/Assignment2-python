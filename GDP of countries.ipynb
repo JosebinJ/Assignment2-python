{
 "cells": [
  {
   "cell_type": "code",
   "execution_count": 56,
   "id": "6e01ac20",
   "metadata": {
    "scrolled": true
   },
   "outputs": [],
   "source": [
    "import pandas as pd\n",
    "with open('Countries with GDP.txt','r') as C_GDP:\n",
    "    gdp_rd=C_GDP.readlines()\n",
    "    cntry=gdp_rd[2]\n",
    "    cntry=cntry[0:-1]\n",
    "    gdp_v=gdp_rd[7]\n",
    "    cnt=cntry.split(',')\n",
    "    gdp=gdp_v.split(',')\n",
    "    gdpval=[]\n",
    "    cnt_r=[]\n",
    "    for each in gdp:\n",
    "        gdpval.append(float(each))\n",
    "    for each in cnt:\n",
    "        cnt_r.append(str(each))"
   ]
  },
  {
   "cell_type": "code",
   "execution_count": 40,
   "id": "7cc4d8ec",
   "metadata": {},
   "outputs": [
    {
     "data": {
      "text/html": [
       "<div>\n",
       "<style scoped>\n",
       "    .dataframe tbody tr th:only-of-type {\n",
       "        vertical-align: middle;\n",
       "    }\n",
       "\n",
       "    .dataframe tbody tr th {\n",
       "        vertical-align: top;\n",
       "    }\n",
       "\n",
       "    .dataframe thead th {\n",
       "        text-align: right;\n",
       "    }\n",
       "</style>\n",
       "<table border=\"1\" class=\"dataframe\">\n",
       "  <thead>\n",
       "    <tr style=\"text-align: right;\">\n",
       "      <th></th>\n",
       "      <th>Country</th>\n",
       "      <th>GDP</th>\n",
       "    </tr>\n",
       "  </thead>\n",
       "  <tbody>\n",
       "    <tr>\n",
       "      <th>0</th>\n",
       "      <td>'Algeria'</td>\n",
       "      <td>2255.225482</td>\n",
       "    </tr>\n",
       "    <tr>\n",
       "      <th>1</th>\n",
       "      <td>'Angola'</td>\n",
       "      <td>629.955306</td>\n",
       "    </tr>\n",
       "    <tr>\n",
       "      <th>2</th>\n",
       "      <td>'Argentina'</td>\n",
       "      <td>11601.630220</td>\n",
       "    </tr>\n",
       "    <tr>\n",
       "      <th>3</th>\n",
       "      <td>'Australia'</td>\n",
       "      <td>25306.824940</td>\n",
       "    </tr>\n",
       "    <tr>\n",
       "      <th>4</th>\n",
       "      <td>'Austria'</td>\n",
       "      <td>27266.403350</td>\n",
       "    </tr>\n",
       "    <tr>\n",
       "      <th>...</th>\n",
       "      <td>...</td>\n",
       "      <td>...</td>\n",
       "    </tr>\n",
       "    <tr>\n",
       "      <th>58</th>\n",
       "      <td>'United States'</td>\n",
       "      <td>37691.027330</td>\n",
       "    </tr>\n",
       "    <tr>\n",
       "      <th>59</th>\n",
       "      <td>'Uruguay'</td>\n",
       "      <td>9581.056590</td>\n",
       "    </tr>\n",
       "    <tr>\n",
       "      <th>60</th>\n",
       "      <td>'Venezuela'</td>\n",
       "      <td>5671.912202</td>\n",
       "    </tr>\n",
       "    <tr>\n",
       "      <th>61</th>\n",
       "      <td>'Vietnam'</td>\n",
       "      <td>757.400929</td>\n",
       "    </tr>\n",
       "    <tr>\n",
       "      <th>62</th>\n",
       "      <td>'Zimbabwe'</td>\n",
       "      <td>347.745660</td>\n",
       "    </tr>\n",
       "  </tbody>\n",
       "</table>\n",
       "<p>63 rows × 2 columns</p>\n",
       "</div>"
      ],
      "text/plain": [
       "            Country           GDP\n",
       "0         'Algeria'   2255.225482\n",
       "1          'Angola'    629.955306\n",
       "2       'Argentina'  11601.630220\n",
       "3       'Australia'  25306.824940\n",
       "4         'Austria'  27266.403350\n",
       "..              ...           ...\n",
       "58  'United States'  37691.027330\n",
       "59        'Uruguay'   9581.056590\n",
       "60      'Venezuela'   5671.912202\n",
       "61        'Vietnam'    757.400929\n",
       "62       'Zimbabwe'    347.745660\n",
       "\n",
       "[63 rows x 2 columns]"
      ]
     },
     "execution_count": 40,
     "metadata": {},
     "output_type": "execute_result"
    }
   ],
   "source": [
    "# entire list countries with corresponding GDPs\n",
    "cnt_v_gdp=pd.DataFrame({'Country':cnt_r,'GDP':gdpval})\n",
    "cnt_v_gdp"
   ]
  },
  {
   "cell_type": "code",
   "execution_count": 53,
   "id": "ce8f9322",
   "metadata": {},
   "outputs": [
    {
     "name": "stdout",
     "output_type": "stream",
     "text": [
      "Country with highest gdp\n"
     ]
    },
    {
     "data": {
      "text/plain": [
       "\"'Norway'\""
      ]
     },
     "execution_count": 53,
     "metadata": {},
     "output_type": "execute_result"
    }
   ],
   "source": [
    "# Country with highest GDP\n",
    "print(\"Country with highest gdp\")\n",
    "cnt_v_gdp['Country'].loc[cnt_v_gdp['GDP'].idxmax()]"
   ]
  },
  {
   "cell_type": "code",
   "execution_count": 54,
   "id": "bd5acdbf",
   "metadata": {},
   "outputs": [
    {
     "name": "stdout",
     "output_type": "stream",
     "text": [
      "Country with smallest gdp\n"
     ]
    },
    {
     "data": {
      "text/plain": [
       "\"'Ethiopia'\""
      ]
     },
     "execution_count": 54,
     "metadata": {},
     "output_type": "execute_result"
    }
   ],
   "source": [
    "# Country with smallest GDP\n",
    "print(\"Country with smallest gdp\")\n",
    "cnt_v_gdp['Country'].loc[cnt_v_gdp['GDP'].idxmin()]"
   ]
  },
  {
   "cell_type": "code",
   "execution_count": 52,
   "id": "c31ef00d",
   "metadata": {},
   "outputs": [
    {
     "data": {
      "text/html": [
       "<div>\n",
       "<style scoped>\n",
       "    .dataframe tbody tr th:only-of-type {\n",
       "        vertical-align: middle;\n",
       "    }\n",
       "\n",
       "    .dataframe tbody tr th {\n",
       "        vertical-align: top;\n",
       "    }\n",
       "\n",
       "    .dataframe thead th {\n",
       "        text-align: right;\n",
       "    }\n",
       "</style>\n",
       "<table border=\"1\" class=\"dataframe\">\n",
       "  <thead>\n",
       "    <tr style=\"text-align: right;\">\n",
       "      <th></th>\n",
       "      <th>Country</th>\n",
       "      <th>GDP</th>\n",
       "    </tr>\n",
       "  </thead>\n",
       "  <tbody>\n",
       "    <tr>\n",
       "      <th>21</th>\n",
       "      <td>'Ethiopia'</td>\n",
       "      <td>229.676952</td>\n",
       "    </tr>\n",
       "    <tr>\n",
       "      <th>43</th>\n",
       "      <td>'Nepal'</td>\n",
       "      <td>274.872862</td>\n",
       "    </tr>\n",
       "    <tr>\n",
       "      <th>39</th>\n",
       "      <td>'Liberia'</td>\n",
       "      <td>279.220406</td>\n",
       "    </tr>\n",
       "    <tr>\n",
       "      <th>62</th>\n",
       "      <td>'Zimbabwe'</td>\n",
       "      <td>347.745660</td>\n",
       "    </tr>\n",
       "    <tr>\n",
       "      <th>29</th>\n",
       "      <td>'Haiti'</td>\n",
       "      <td>385.579383</td>\n",
       "    </tr>\n",
       "    <tr>\n",
       "      <th>...</th>\n",
       "      <td>...</td>\n",
       "      <td>...</td>\n",
       "    </tr>\n",
       "    <tr>\n",
       "      <th>48</th>\n",
       "      <td>'Qatar'</td>\n",
       "      <td>36152.666760</td>\n",
       "    </tr>\n",
       "    <tr>\n",
       "      <th>58</th>\n",
       "      <td>'United States'</td>\n",
       "      <td>37691.027330</td>\n",
       "    </tr>\n",
       "    <tr>\n",
       "      <th>54</th>\n",
       "      <td>'Switzerland'</td>\n",
       "      <td>39170.413710</td>\n",
       "    </tr>\n",
       "    <tr>\n",
       "      <th>36</th>\n",
       "      <td>'Japan'</td>\n",
       "      <td>39578.074410</td>\n",
       "    </tr>\n",
       "    <tr>\n",
       "      <th>45</th>\n",
       "      <td>'Norway'</td>\n",
       "      <td>40034.850630</td>\n",
       "    </tr>\n",
       "  </tbody>\n",
       "</table>\n",
       "<p>63 rows × 2 columns</p>\n",
       "</div>"
      ],
      "text/plain": [
       "            Country           GDP\n",
       "21       'Ethiopia'    229.676952\n",
       "43          'Nepal'    274.872862\n",
       "39        'Liberia'    279.220406\n",
       "62       'Zimbabwe'    347.745660\n",
       "29          'Haiti'    385.579383\n",
       "..              ...           ...\n",
       "48          'Qatar'  36152.666760\n",
       "58  'United States'  37691.027330\n",
       "54    'Switzerland'  39170.413710\n",
       "36          'Japan'  39578.074410\n",
       "45         'Norway'  40034.850630\n",
       "\n",
       "[63 rows x 2 columns]"
      ]
     },
     "execution_count": 52,
     "metadata": {},
     "output_type": "execute_result"
    }
   ],
   "source": [
    "# Sorted list of countries with coresponding GDP\n",
    "cnt_v_gdp.sort_values(by='GDP',ascending=True)"
   ]
  },
  {
   "cell_type": "code",
   "execution_count": 41,
   "id": "f100df7b",
   "metadata": {},
   "outputs": [
    {
     "data": {
      "text/html": [
       "<div>\n",
       "<style scoped>\n",
       "    .dataframe tbody tr th:only-of-type {\n",
       "        vertical-align: middle;\n",
       "    }\n",
       "\n",
       "    .dataframe tbody tr th {\n",
       "        vertical-align: top;\n",
       "    }\n",
       "\n",
       "    .dataframe thead th {\n",
       "        text-align: right;\n",
       "    }\n",
       "</style>\n",
       "<table border=\"1\" class=\"dataframe\">\n",
       "  <thead>\n",
       "    <tr style=\"text-align: right;\">\n",
       "      <th></th>\n",
       "      <th>GDP</th>\n",
       "    </tr>\n",
       "  </thead>\n",
       "  <tbody>\n",
       "    <tr>\n",
       "      <th>count</th>\n",
       "      <td>63.000000</td>\n",
       "    </tr>\n",
       "    <tr>\n",
       "      <th>mean</th>\n",
       "      <td>11289.409272</td>\n",
       "    </tr>\n",
       "    <tr>\n",
       "      <th>std</th>\n",
       "      <td>12846.190627</td>\n",
       "    </tr>\n",
       "    <tr>\n",
       "      <th>min</th>\n",
       "      <td>229.676952</td>\n",
       "    </tr>\n",
       "    <tr>\n",
       "      <th>25%</th>\n",
       "      <td>1270.818919</td>\n",
       "    </tr>\n",
       "    <tr>\n",
       "      <th>50%</th>\n",
       "      <td>4803.398244</td>\n",
       "    </tr>\n",
       "    <tr>\n",
       "      <th>75%</th>\n",
       "      <td>20262.713475</td>\n",
       "    </tr>\n",
       "    <tr>\n",
       "      <th>max</th>\n",
       "      <td>40034.850630</td>\n",
       "    </tr>\n",
       "  </tbody>\n",
       "</table>\n",
       "</div>"
      ],
      "text/plain": [
       "                GDP\n",
       "count     63.000000\n",
       "mean   11289.409272\n",
       "std    12846.190627\n",
       "min      229.676952\n",
       "25%     1270.818919\n",
       "50%     4803.398244\n",
       "75%    20262.713475\n",
       "max    40034.850630"
      ]
     },
     "execution_count": 41,
     "metadata": {},
     "output_type": "execute_result"
    }
   ],
   "source": [
    "cnt_v_gdp.describe()"
   ]
  },
  {
   "cell_type": "code",
   "execution_count": 43,
   "id": "496a6acc",
   "metadata": {},
   "outputs": [
    {
     "data": {
      "text/plain": [
       "40034.85063"
      ]
     },
     "execution_count": 43,
     "metadata": {},
     "output_type": "execute_result"
    }
   ],
   "source": [
    "# maximum value of GDP\n",
    "cnt_v_gdp['GDP'].max()"
   ]
  },
  {
   "cell_type": "code",
   "execution_count": 44,
   "id": "602a3308",
   "metadata": {},
   "outputs": [
    {
     "data": {
      "text/plain": [
       "229.6769525"
      ]
     },
     "execution_count": 44,
     "metadata": {},
     "output_type": "execute_result"
    }
   ],
   "source": [
    "# minimum value of GDP\n",
    "cnt_v_gdp['GDP'].min()"
   ]
  },
  {
   "cell_type": "code",
   "execution_count": 45,
   "id": "6015bc6c",
   "metadata": {
    "scrolled": true
   },
   "outputs": [
    {
     "data": {
      "text/plain": [
       "11289.409271639684"
      ]
     },
     "execution_count": 45,
     "metadata": {},
     "output_type": "execute_result"
    }
   ],
   "source": [
    "# mean value of GDP\n",
    "cnt_v_gdp['GDP'].mean()"
   ]
  },
  {
   "cell_type": "code",
   "execution_count": 46,
   "id": "77313768",
   "metadata": {},
   "outputs": [
    {
     "data": {
      "text/plain": [
       "711232.7841133"
      ]
     },
     "execution_count": 46,
     "metadata": {},
     "output_type": "execute_result"
    }
   ],
   "source": [
    "# sum of all GDP values\n",
    "cnt_v_gdp['GDP'].sum()"
   ]
  },
  {
   "cell_type": "code",
   "execution_count": 55,
   "id": "a5db9221",
   "metadata": {},
   "outputs": [
    {
     "data": {
      "text/plain": [
       "12846.190626580401"
      ]
     },
     "execution_count": 55,
     "metadata": {},
     "output_type": "execute_result"
    }
   ],
   "source": [
    "# standardized value of GDP\n",
    "cnt_v_gdp['GDP'].std()"
   ]
  },
  {
   "cell_type": "code",
   "execution_count": null,
   "id": "49008850",
   "metadata": {},
   "outputs": [],
   "source": []
  }
 ],
 "metadata": {
  "kernelspec": {
   "display_name": "Python 3",
   "language": "python",
   "name": "python3"
  },
  "language_info": {
   "codemirror_mode": {
    "name": "ipython",
    "version": 3
   },
   "file_extension": ".py",
   "mimetype": "text/x-python",
   "name": "python",
   "nbconvert_exporter": "python",
   "pygments_lexer": "ipython3",
   "version": "3.8.8"
  }
 },
 "nbformat": 4,
 "nbformat_minor": 5
}
